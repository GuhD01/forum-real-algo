{
 "cells": [
  {
   "cell_type": "code",
   "execution_count": 30,
   "metadata": {},
   "outputs": [
    {
     "name": "stdout",
     "output_type": "stream",
     "text": [
      "The area is of the circle is 50.27\n"
     ]
    }
   ],
   "source": [
    "#1\n",
    "import math\n",
    "radius = eval(input(\"Please type the radius of a circle: \"))\n",
    "area = math.pi * (radius**2)\n",
    "print(\"The area is of the circle is\",'{:.2f}'.format(area) )"
   ]
  },
  {
   "cell_type": "code",
   "execution_count": 32,
   "metadata": {},
   "outputs": [
    {
     "name": "stdout",
     "output_type": "stream",
     "text": [
      "Agastya Randy\n"
     ]
    }
   ],
   "source": [
    "#2\n",
    "first = input('What is your first name? ')\n",
    "last = input('what is your last name? ')\n",
    "\n",
    "temp = first\n",
    "first = last\n",
    "last = temp\n",
    "\n",
    "print(f'{first} {last}')"
   ]
  },
  {
   "cell_type": "code",
   "execution_count": 1,
   "metadata": {},
   "outputs": [
    {
     "name": "stdout",
     "output_type": "stream",
     "text": [
      "Red Black\n"
     ]
    }
   ],
   "source": [
    "#3\n",
    "color_list = [\"Red\",\"Green\",\"White\",\"Black\"]\n",
    "print(color_list[0], color_list[3])"
   ]
  },
  {
   "cell_type": "code",
   "execution_count": 34,
   "metadata": {},
   "outputs": [
    {
     "name": "stdout",
     "output_type": "stream",
     "text": [
      "84\n"
     ]
    }
   ],
   "source": [
    "#4\n",
    "n = eval(input(\"insert n: \"))\n",
    "print(n+(n**2)+(n**3))\n"
   ]
  },
  {
   "cell_type": "code",
   "execution_count": 9,
   "metadata": {},
   "outputs": [
    {
     "name": "stdout",
     "output_type": "stream",
     "text": [
      "V = 904.78\n"
     ]
    }
   ],
   "source": [
    "#5\n",
    "import math\n",
    "radius = float(6)\n",
    "volume = 4/3*math.pi*(radius**3)\n",
    "print('V =','{:.2f}'.format(volume))\n"
   ]
  },
  {
   "cell_type": "code",
   "execution_count": 11,
   "metadata": {},
   "outputs": [
    {
     "name": "stdout",
     "output_type": "stream",
     "text": [
      "8\n"
     ]
    }
   ],
   "source": [
    "#6\n",
    "number = eval(input('pick a number: '))\n",
    "number2 = 17\n",
    "if number > number2:\n",
    "    print((number - number2)*2)\n",
    "elif number <= number2:\n",
    "    print(number2-number)"
   ]
  },
  {
   "cell_type": "code",
   "execution_count": 12,
   "metadata": {},
   "outputs": [
    {
     "name": "stdout",
     "output_type": "stream",
     "text": [
      "27\n"
     ]
    }
   ],
   "source": [
    "#7\n",
    "number1 = eval(input('insert a number: '))\n",
    "number2 = eval(input('insert a second number: '))\n",
    "number3 = eval(input('insert a final number: '))\n",
    "sum = number1 +number2 +number3\n",
    "if number1 == number2 == number3:\n",
    "    sum *= 3\n",
    "print(sum)\n"
   ]
  },
  {
   "cell_type": "code",
   "execution_count": 6,
   "metadata": {},
   "outputs": [
    {
     "name": "stdout",
     "output_type": "stream",
     "text": [
      "it is odd\n"
     ]
    }
   ],
   "source": [
    "#8\n",
    "numero = eval(input('insert a number: '))\n",
    "if numero % 2 == 0:\n",
    "    print('it is even')\n",
    "else:\n",
    "    print('it is odd')\n"
   ]
  },
  {
   "cell_type": "code",
   "execution_count": 7,
   "metadata": {},
   "outputs": [
    {
     "name": "stdout",
     "output_type": "stream",
     "text": [
      "it is not a vowel\n"
     ]
    }
   ],
   "source": [
    "#9\n",
    "vowel=['a','i','u','e','o','A','I','U','E','O']\n",
    "letter = input('choose a letter: ')\n",
    "for i in letter:\n",
    "    if i in vowel:\n",
    "        print('it is a vowel')\n",
    "    else:\n",
    "        print('it is not a vowel')"
   ]
  },
  {
   "cell_type": "code",
   "execution_count": 8,
   "metadata": {},
   "outputs": [
    {
     "name": "stdout",
     "output_type": "stream",
     "text": [
      "your number is included\n"
     ]
    }
   ],
   "source": [
    "#10\n",
    "list = [2,4,6,8,10,12,14,16,18,20]\n",
    "number = int(input('Pick a number between 1-20: '))\n",
    "for i in list:\n",
    "    if number == i:\n",
    "        print('your number is included')\n",
    "        break\n",
    "else:\n",
    "    print('your number is not included')\n",
    "        \n",
    "\n",
    "\n"
   ]
  },
  {
   "cell_type": "code",
   "execution_count": 9,
   "metadata": {},
   "outputs": [
    {
     "name": "stdout",
     "output_type": "stream",
     "text": [
      "==\n",
      "====\n",
      "======\n",
      "========\n",
      "=\n"
     ]
    }
   ],
   "source": [
    "#11\n",
    "def histogram(list):\n",
    "    for i in list:\n",
    "        n = str()\n",
    "        times = i\n",
    "        while(times > 0):\n",
    "          n += '='\n",
    "          times = times - 1\n",
    "        print(n)\n",
    "\n",
    "histogram([2,4,6,8,1])        \n",
    "            \n",
    "           \n",
    "\n"
   ]
  },
  {
   "cell_type": "code",
   "execution_count": 10,
   "metadata": {},
   "outputs": [
    {
     "name": "stdout",
     "output_type": "stream",
     "text": [
      "24 58 104 162 236 248 328 344 386 412 418 462 512 566 566 626 742 758 826 866 892 894 918 950 958 978 "
     ]
    }
   ],
   "source": [
    "#12\n",
    "numbers = [\n",
    " 386, 462, 47, 418, 907, 344, 236, 375, 823, 566, 597, 978, 328, 615, 953, 345,\n",
    " 399, 162, 758, 219, 918, 237, 412, 566, 826, 248, 866, 950, 626, 949, 687, 217,\n",
    " 815, 67, 104, 58, 512, 24, 892, 894, 767, 553, 81, 379, 843, 831, 445, 742, 717,\n",
    " 958,743, 527 ]\n",
    "numbers.sort()\n",
    "for i in numbers:\n",
    "    if i % 2 ==0:\n",
    "        print(i, end=\" \")"
   ]
  },
  {
   "cell_type": "code",
   "execution_count": 11,
   "metadata": {},
   "outputs": [
    {
     "name": "stdout",
     "output_type": "stream",
     "text": [
      "the area is 10.0\n"
     ]
    }
   ],
   "source": [
    "#13\n",
    "base = eval(input('insert the base: '))\n",
    "height = eval(input('insert the height'))\n",
    "area = 1/2 * base * height\n",
    "print(f'the area is {area}')"
   ]
  },
  {
   "cell_type": "code",
   "execution_count": 14,
   "metadata": {},
   "outputs": [
    {
     "name": "stdout",
     "output_type": "stream",
     "text": [
      "The LCM is 180\n"
     ]
    }
   ],
   "source": [
    "#14\n",
    "from math import lcm\n",
    "\n",
    "\n",
    "def lcm(a, b):\n",
    "   if a > b:\n",
    "       higher = a\n",
    "   else:\n",
    "       higher = b\n",
    "\n",
    "   while(True):\n",
    "       if((higher % a == 0) and (higher % b == 0)):\n",
    "           lcm = higher\n",
    "           break\n",
    "       higher += 1\n",
    "\n",
    "   return lcm\n",
    "\n",
    "number1 = eval(input('Choose a number: '))\n",
    "number2 = eval(input('Choose another number: '))\n",
    "\n",
    "print(\"The LCM is\", lcm(number1, number2))\n",
    "\n"
   ]
  },
  {
   "cell_type": "code",
   "execution_count": 16,
   "metadata": {},
   "outputs": [
    {
     "name": "stdout",
     "output_type": "stream",
     "text": [
      "13\n"
     ]
    }
   ],
   "source": [
    "#15\n",
    "one = eval(input('Insert a number: '))\n",
    "two = eval(input('Insert a second number: '))\n",
    "three = eval(input('Insert a third number: '))\n",
    "sum = one+two+three\n",
    "if one == two or two == three or three == one:\n",
    "    sum = 0\n",
    "    print(sum)\n",
    "else:\n",
    "    print(sum)"
   ]
  },
  {
   "cell_type": "code",
   "execution_count": 17,
   "metadata": {},
   "outputs": [
    {
     "name": "stdout",
     "output_type": "stream",
     "text": [
      "25\n"
     ]
    }
   ],
   "source": [
    "#16\n",
    "x = eval(input('insert number for x: '))\n",
    "y = eval(input('input number for y: '))\n",
    "print((x+y)**2)"
   ]
  },
  {
   "cell_type": "code",
   "execution_count": 21,
   "metadata": {},
   "outputs": [
    {
     "name": "stdout",
     "output_type": "stream",
     "text": [
      "Find the future value\n",
      "12722.79\n"
     ]
    }
   ],
   "source": [
    "#17\n",
    "print('Find the future value')\n",
    "amt = 10000\n",
    "int = 3.5\n",
    "years = 7\n",
    "future_value= amt*(1 + (int/100))**years\n",
    "print(round(future_value,2))\n"
   ]
  },
  {
   "cell_type": "code",
   "execution_count": 19,
   "metadata": {},
   "outputs": [
    {
     "name": "stdout",
     "output_type": "stream",
     "text": [
      "the distance is: 3.16\n"
     ]
    }
   ],
   "source": [
    "#18\n",
    "import math\n",
    "x_one = eval(input('insert x for the first coordinates: '))\n",
    "y_one = eval(input('insert y for the first coordinates: '))\n",
    "x_two = eval(input('insert x for the second coordinates: '))\n",
    "y_two = eval(input('insert y for the second coordinates: '))\n",
    "distance = round(math.sqrt(((y_two-x_two)**2)+((x_two-x_one)**2)),2)\n",
    "print(f'the distance is: {distance}' )\n"
   ]
  },
  {
   "cell_type": "code",
   "execution_count": 26,
   "metadata": {},
   "outputs": [
    {
     "name": "stdout",
     "output_type": "stream",
     "text": [
      "the sum of the first n positive integers: 36.0\n"
     ]
    }
   ],
   "source": [
    "#19\n",
    "positive = eval(input('insert a positive integer: '))\n",
    "calc = (positive * (positive + 1)) / 2\n",
    "print(f'the sum of the first n positive integers: {calc}')"
   ]
  },
  {
   "cell_type": "code",
   "execution_count": 27,
   "metadata": {},
   "outputs": [
    {
     "name": "stdout",
     "output_type": "stream",
     "text": [
      "input your height\n",
      "200.66\n"
     ]
    }
   ],
   "source": [
    "#20\n",
    "print(('input your height'))\n",
    "feet = eval(input(\"foot: \"))\n",
    "inch = eval(input('inch: '))\n",
    "total_inch = (feet*12)+inch\n",
    "total_cm = total_inch *2.54\n",
    "print(round(total_cm,2))\n",
    "\n",
    "\n",
    "\n"
   ]
  },
  {
   "cell_type": "code",
   "execution_count": 28,
   "metadata": {},
   "outputs": [
    {
     "name": "stdout",
     "output_type": "stream",
     "text": [
      "6.40\n"
     ]
    }
   ],
   "source": [
    "#21\n",
    "import math\n",
    "base = eval(input('insert the adjecent: '))\n",
    "height = eval(input('insert the opposite: '))\n",
    "hypotenuse = math.sqrt((base**2)+(height**2))\n",
    "print('{:.2f}'.format(hypotenuse))"
   ]
  },
  {
   "cell_type": "code",
   "execution_count": 48,
   "metadata": {},
   "outputs": [
    {
     "name": "stdout",
     "output_type": "stream",
     "text": [
      "BMI calculator\n",
      "20.06\n"
     ]
    }
   ],
   "source": [
    "#22\n",
    "print('BMI calculator')\n",
    "weight = eval(input('insert your weight: '))\n",
    "height_m = eval(input('insert your height (m):'))\n",
    "real_height = height_m**2\n",
    "BMI = weight/real_height\n",
    "print('{:.2f}'.format(BMI))"
   ]
  },
  {
   "cell_type": "code",
   "execution_count": 29,
   "metadata": {},
   "outputs": [
    {
     "name": "stdout",
     "output_type": "stream",
     "text": [
      "The mid point is (6.0, 12.0)\n"
     ]
    }
   ],
   "source": [
    "#23 \n",
    "x_one = eval(input('insert x for the first coordinates: '))\n",
    "y_one = eval(input('insert y for the first coordinates: '))\n",
    "x_two = eval(input('insert x for the second coordinates: '))\n",
    "y_two = eval(input('insert y for the second coordinates: '))\n",
    "mid = ((x_one+x_two)/2),((y_one+y_two)/2)\n",
    "print(f'The mid point is {mid}')"
   ]
  },
  {
   "cell_type": "code",
   "execution_count": 11,
   "metadata": {},
   "outputs": [
    {
     "name": "stdout",
     "output_type": "stream",
     "text": [
      "2002,2009,2016,2023,2037,2044,2051,2058,2072,2079,2086,2093,2107,2114,2121,2128,2142,2149,2156,2163,2177,2184,2191,2198,2212,2219,2226,2233,2247,2254,2261,2268,2282,2289,2296,2303,2317,2324,2331,2338,2352,2359,2366,2373,2387,2394,2401,2408,2422,2429,2436,2443,2457,2464,2471,2478,2492,2499,2506,2513,2527,2534,2541,2548,2562,2569,2576,2583,2597,2604,2611,2618,2632,2639,2646,2653,2667,2674,2681,2688,2702,2709,2716,2723,2737,2744,2751,2758,2772,2779,2786,2793,2807,2814,2821,2828,2842,2849,2856,2863,2877,2884,2891,2898,2912,2919,2926,2933,2947,2954,2961,2968,2982,2989,2996,3003,3017,3024,3031,3038,3052,3059,3066,3073,3087,3094,3101,3108,3122,3129,3136,3143,3157,3164,3171,3178,3192,3199,"
     ]
    }
   ],
   "source": [
    "#24\n",
    "numero = range(2000,3200)\n",
    "for i in numero:\n",
    "    if i % 7 == 0 and i % 5 != 0:\n",
    "        print(i, end=',')"
   ]
  }
 ],
 "metadata": {
  "kernelspec": {
   "display_name": "Python 3.9.12 ('base')",
   "language": "python",
   "name": "python3"
  },
  "language_info": {
   "codemirror_mode": {
    "name": "ipython",
    "version": 3
   },
   "file_extension": ".py",
   "mimetype": "text/x-python",
   "name": "python",
   "nbconvert_exporter": "python",
   "pygments_lexer": "ipython3",
   "version": "3.9.12"
  },
  "orig_nbformat": 4,
  "vscode": {
   "interpreter": {
    "hash": "54687dd27210dacd83bb706e2bdc4cd89c866b3334642fd9b77d1ec6dad70fdf"
   }
  }
 },
 "nbformat": 4,
 "nbformat_minor": 2
}
